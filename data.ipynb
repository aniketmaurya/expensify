{
 "cells": [
  {
   "cell_type": "code",
   "execution_count": 3,
   "metadata": {},
   "outputs": [
    {
     "name": "stdout",
     "output_type": "stream",
     "text": [
      "loading Roboflow workspace...\n",
      "loading Roboflow project...\n"
     ]
    },
    {
     "name": "stderr",
     "output_type": "stream",
     "text": [
      "Downloading Dataset Version Zip in vlm-pilot-2 to jsonl:: 100%|██████████| 29397/29397 [00:02<00:00, 11883.59it/s]"
     ]
    },
    {
     "name": "stdout",
     "output_type": "stream",
     "text": [
      "\n"
     ]
    },
    {
     "name": "stderr",
     "output_type": "stream",
     "text": [
      "\n",
      "Extracting Dataset Version Zip to vlm-pilot-2 in jsonl:: 100%|██████████| 610/610 [00:00<00:00, 11646.71it/s]\n"
     ]
    }
   ],
   "source": [
    "import os\n",
    "from roboflow import Roboflow\n",
    "import dotenv\n",
    "\n",
    "dotenv.load_dotenv()\n",
    "rf = Roboflow(api_key=os.getenv(\"ROBOFLOW_API_KEY\"))\n",
    "project = rf.workspace(\"anikets-workspace-bdrzs\").project(\"vlm-pilot\")\n",
    "version = project.version(2)\n",
    "dataset = version.download(\"jsonl\")\n"
   ]
  },
  {
   "cell_type": "code",
   "execution_count": 8,
   "metadata": {},
   "outputs": [
    {
     "data": {
      "text/plain": [
       "'vlm-pilot'"
      ]
     },
     "execution_count": 8,
     "metadata": {},
     "output_type": "execute_result"
    }
   ],
   "source": [
    "data_dir = \"vlm-pilot-2/\"\n",
    "train_data_dir = f\"{data_dir}/train\"\n",
    "val_data_dir = f\"{data_dir}/valid\"\n",
    "test_data_dir = f\"{data_dir}/test\"\n",
    "\n",
    "!head -n 5 {train_data_dir}/annotations.jsonl"
   ]
  },
  {
   "cell_type": "code",
   "execution_count": null,
   "metadata": {},
   "outputs": [],
   "source": [
    "import json\n",
    "import os\n",
    "from typing import Any\n",
    "\n",
    "\n",
    "def modify_jsonl(file_path: str, task: str) -> None:\n",
    "    temp_file_path: str = file_path + \".temp\"\n",
    "\n",
    "    with open(file_path) as infile, open(temp_file_path, \"w\") as outfile:\n",
    "        for line in infile:\n",
    "            data: dict[str, Any] = json.loads(line.strip())\n",
    "            data[\"prefix\"] = f\"<VQA>{task}\"\n",
    "            outfile.write(json.dumps(data) + \"\\n\")\n",
    "\n",
    "    os.replace(temp_file_path, file_path)"
   ]
  },
  {
   "cell_type": "code",
   "execution_count": null,
   "metadata": {},
   "outputs": [],
   "source": [
    "task = \"Given the following receipt, extract the total amount spent.\"\n",
    "modify_jsonl(f\"{data_dir}/train/annotations.jsonl\", task)\n",
    "modify_jsonl(f\"{data_dir}/test/annotations.jsonl\", task)\n",
    "modify_jsonl(f\"{data_dir}/valid/annotations.jsonl\", task)"
   ]
  }
 ],
 "metadata": {
  "kernelspec": {
   "display_name": "am",
   "language": "python",
   "name": "python3"
  },
  "language_info": {
   "codemirror_mode": {
    "name": "ipython",
    "version": 3
   },
   "file_extension": ".py",
   "mimetype": "text/x-python",
   "name": "python",
   "nbconvert_exporter": "python",
   "pygments_lexer": "ipython3",
   "version": "3.11.9"
  }
 },
 "nbformat": 4,
 "nbformat_minor": 2
}
